{
 "cells": [
  {
   "cell_type": "markdown",
   "id": "b9302666-756c-404f-b998-bee9a3ea6396",
   "metadata": {},
   "source": [
    "# Relatório 5 - Subtração de Fundo e Detecção de Movimento\n",
    "\n",
    "Tutoriais Utilizados:\n",
    "\n",
    "https://docs.opencv.org/4.5.2/d1/dc5/tutorial_background_subtraction.html\n",
    "\n",
    "https://divyanshushekhar.com/motion-detection-opencv/"
   ]
  },
  {
   "cell_type": "code",
   "execution_count": 1,
   "id": "ff55789a-3075-4e8f-a0f1-7a978b4e8351",
   "metadata": {},
   "outputs": [],
   "source": [
    "import numpy as np # numpy - biblioteca python muito útil para trabalhar com operações vetorizadas em um conjunto de dados\n",
    "import cv2 as cv # opencv - biblioteca crossplataforma de processamento de imagem e vídeo criada pela Intel\n",
    "from matplotlib import pyplot as plt # matplotlib - biblioteca completa de visualização de dados"
   ]
  },
  {
   "cell_type": "code",
   "execution_count": 4,
   "id": "06f2250a-53af-4f9b-b21b-ae621354368b",
   "metadata": {},
   "outputs": [
    {
     "name": "stderr",
     "output_type": "stream",
     "text": [
      "usage: ipykernel_launcher.py [-h] [--input INPUT] [--algo ALGO]\n",
      "ipykernel_launcher.py: error: unrecognized arguments: -f /home/lucas/.local/share/jupyter/runtime/kernel-11d7fab3-38a6-4c9f-abb1-0696e9df0ee6.json\n"
     ]
    },
    {
     "ename": "SystemExit",
     "evalue": "2",
     "output_type": "error",
     "traceback": [
      "An exception has occurred, use %tb to see the full traceback.\n",
      "\u001b[0;31mSystemExit\u001b[0m\u001b[0;31m:\u001b[0m 2\n"
     ]
    }
   ],
   "source": [
    "from __future__ import print_function\n",
    "import cv2 as cv\n",
    "import argparse\n",
    "parser = argparse.ArgumentParser(description='This program shows how to use background subtraction methods provided by \\\n",
    "                                              OpenCV. You can process both videos and images.')\n",
    "parser.add_argument('--input', type=str, help='Path to a video or a sequence of image.', default='vtest.avi')\n",
    "parser.add_argument('--algo', type=str, help='Background subtraction method (KNN, MOG2).', default='MOG2')\n",
    "args = parser.parse_args()\n",
    "if args.algo == 'MOG2':\n",
    "    backSub = cv.createBackgroundSubtractorMOG2()\n",
    "else:\n",
    "    backSub = cv.createBackgroundSubtractorKNN()\n",
    "capture = cv.VideoCapture(cv.samples.findFileOrKeep(args.input))\n",
    "if not capture.isOpened():\n",
    "    print('Unable to open: ' + args.input)\n",
    "    break\n",
    "while True:\n",
    "    ret, frame = capture.read()\n",
    "    if frame is None:\n",
    "        break\n",
    "    \n",
    "    fgMask = backSub.apply(frame)\n",
    "    \n",
    "    \n",
    "    cv.rectangle(frame, (10, 2), (100,20), (255,255,255), -1)\n",
    "    cv.putText(frame, str(capture.get(cv.CAP_PROP_POS_FRAMES)), (15, 15),\n",
    "               cv.FONT_HERSHEY_SIMPLEX, 0.5 , (0,0,0))\n",
    "    \n",
    "    \n",
    "    cv.imshow('Frame', frame)\n",
    "    cv.imshow('FG Mask', fgMask)\n",
    "    \n",
    "    keyboard = cv.waitKey(30)\n",
    "    if keyboard == 'q' or keyboard == 27:\n",
    "        break"
   ]
  },
  {
   "cell_type": "code",
   "execution_count": null,
   "id": "30de4be3-af33-4166-9918-bd2be406ce12",
   "metadata": {},
   "outputs": [],
   "source": []
  }
 ],
 "metadata": {
  "kernelspec": {
   "display_name": "Python 3",
   "language": "python",
   "name": "python3"
  },
  "language_info": {
   "codemirror_mode": {
    "name": "ipython",
    "version": 3
   },
   "file_extension": ".py",
   "mimetype": "text/x-python",
   "name": "python",
   "nbconvert_exporter": "python",
   "pygments_lexer": "ipython3",
   "version": "3.8.8"
  }
 },
 "nbformat": 4,
 "nbformat_minor": 5
}
