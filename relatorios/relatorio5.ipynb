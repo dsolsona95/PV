{
 "cells": [
  {
   "cell_type": "markdown",
   "id": "b9302666-756c-404f-b998-bee9a3ea6396",
   "metadata": {},
   "source": [
    "# Relatório 5 - Subtração de Fundo e Detecção de Movimento\n",
    "\n",
    "Tutoriais Utilizados:\n",
    "\n",
    "https://docs.opencv.org/4.5.2/d1/dc5/tutorial_background_subtraction.html\n",
    "\n",
    "https://divyanshushekhar.com/motion-detection-opencv/ - site não pode ser acessado"
   ]
  },
  {
   "cell_type": "markdown",
   "id": "4b7d3be1-4092-4348-80ad-de5c2ec9035b",
   "metadata": {},
   "source": [
    "### Este tutorial foi executado como .py por não conseguir o mesmo processo com o Google Colab, o codigo apresentado nesse notebook foi feito para melhor documentação de cada etapa, e o resultado foi anexado ao final"
   ]
  },
  {
   "cell_type": "markdown",
   "id": "31b90a55-19b2-46dc-b286-2b2c13520dd5",
   "metadata": {},
   "source": [
    "## Script utilizado para a execução da remoção de fundo"
   ]
  },
  {
   "cell_type": "code",
   "execution_count": null,
   "id": "06f2250a-53af-4f9b-b21b-ae621354368b",
   "metadata": {},
   "outputs": [],
   "source": [
    "from __future__ import print_function\n",
    "import cv2 as cv # import o opencv\n",
    "import argparse # importa a biblioteca para manusear arumentos de execucao\n",
    "\n",
    "parser = argparse.ArgumentParser(description='This program shows how to use background subtraction methods provided by \\\n",
    "                                              OpenCV. You can process both videos and images.')\n",
    "\n",
    "# argumento input, um video diferente do vtest pode ser utilizado para remocao de fundo\n",
    "parser.add_argument('--input', type=str, help='Path to a video or a sequence of image.', default='vtest.avi')\n",
    "\n",
    "# argumento metodo, outros metodos podem ser utilizados para remover o fundo\n",
    "parser.add_argument('--algo', type=str, help='Background subtraction method (KNN, MOG2).', default='MOG2')\n",
    "args = parser.parse_args()\n",
    "if args.algo == 'MOG2':\n",
    "    backSub = cv.createBackgroundSubtractorMOG2()\n",
    "else:\n",
    "    backSub = cv.createBackgroundSubtractorKNN()\n",
    "capture = cv.VideoCapture(cv.samples.findFileOrKeep(args.input))\n",
    "if not capture.isOpened():\n",
    "    print('Unable to open: ' + args.input)\n",
    "    exit()\n",
    "while True:\n",
    "    ret, frame = capture.read()\n",
    "    if frame is None:\n",
    "        break\n",
    "    \n",
    "    fgMask = backSub.apply(frame)\n",
    "    \n",
    "    \n",
    "    cv.rectangle(frame, (10, 2), (100,20), (255,255,255), -1)\n",
    "    cv.putText(frame, str(capture.get(cv.CAP_PROP_POS_FRAMES)), (15, 15),\n",
    "               cv.FONT_HERSHEY_SIMPLEX, 0.5 , (0,0,0))\n",
    "    \n",
    "    \n",
    "    cv.imshow('Frame', frame)\n",
    "    cv.imshow('FG Mask', fgMask)\n",
    "    \n",
    "    keyboard = cv.waitKey(30)\n",
    "    if keyboard == 'q' or keyboard == 27:\n",
    "        break"
   ]
  },
  {
   "cell_type": "markdown",
   "id": "bc70f948-1fb8-4c70-9aec-c4f778c3c834",
   "metadata": {},
   "source": [
    "# Resultados"
   ]
  },
  {
   "cell_type": "markdown",
   "id": "dec65495-7f4a-4e29-99f6-b694013b1e9c",
   "metadata": {},
   "source": [
    "Como esperado o resultado fui igual ao tutorial, as pessoas em primeiro plano ficaram destacadas em branco e o fundo permaneceu preto, apenas com o mesmo problema na detecção de sombras também relatado no tutorial."
   ]
  },
  {
   "cell_type": "code",
   "execution_count": 15,
   "id": "4dc202a1-4e96-4d87-84c3-da8950f11b42",
   "metadata": {},
   "outputs": [
    {
     "data": {
      "text/html": [
       "<video src=\"remocao_fundo.mkv\" controls  >\n",
       "      Your browser does not support the <code>video</code> element.\n",
       "    </video>"
      ],
      "text/plain": [
       "<IPython.core.display.Video object>"
      ]
     },
     "execution_count": 15,
     "metadata": {},
     "output_type": "execute_result"
    }
   ],
   "source": [
    "from IPython.display import Video\n",
    "Video(\"remocao_fundo.mkv\")"
   ]
  },
  {
   "cell_type": "code",
   "execution_count": null,
   "id": "51d85bd2-1836-468c-a6b8-18f81370f6a0",
   "metadata": {},
   "outputs": [],
   "source": []
  }
 ],
 "metadata": {
  "kernelspec": {
   "display_name": "Python 3",
   "language": "python",
   "name": "python3"
  },
  "language_info": {
   "codemirror_mode": {
    "name": "ipython",
    "version": 3
   },
   "file_extension": ".py",
   "mimetype": "text/x-python",
   "name": "python",
   "nbconvert_exporter": "python",
   "pygments_lexer": "ipython3",
   "version": "3.8.8"
  }
 },
 "nbformat": 4,
 "nbformat_minor": 5
}
