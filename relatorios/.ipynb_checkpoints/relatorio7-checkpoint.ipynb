{
 "cells": [
  {
   "cell_type": "markdown",
   "id": "bd496064-8e12-4267-b753-72850e6aebd7",
   "metadata": {},
   "source": [
    "# Relatório 7 - Detecção de Objetos\n",
    "\n",
    "Tutoriais utilizados\n",
    "\n",
    "https://docs.opencv.org/4.5.3/db/d28/tutorial_cascade_classifier.html\n",
    "\n",
    "https://colab.research.google.com/github/computationalcore/introduction-to-opencv/blob/master/notebooks/4-Cascade_classification.ipynb\n",
    "\n",
    "https://medium.datadriveninvestor.com/haar-cascade-classifiers-237c9193746b\n",
    "\n",
    "https://github.com/opencv/opencv/tree/master/data/haarcascades"
   ]
  },
  {
   "cell_type": "markdown",
   "id": "9925a406-ce4c-46ee-9dad-2df7e9d9bd7c",
   "metadata": {},
   "source": [
    "## Primeiro vamos importar as bibliotecas utilizadas nessa atividade"
   ]
  },
  {
   "cell_type": "code",
   "execution_count": null,
   "id": "2792b503-198d-46ec-8332-efc33d0652ee",
   "metadata": {},
   "outputs": [],
   "source": [
    "from __future__ import print_function\n",
    "import cv2 as cv\n",
    "import argparse"
   ]
  },
  {
   "cell_type": "markdown",
   "id": "20b60edc-475b-4e9d-bcda-724f8adae730",
   "metadata": {},
   "source": [
    "## Função Para exibir janela e mostrar detecção"
   ]
  },
  {
   "cell_type": "code",
   "execution_count": null,
   "id": "259a302c-86b2-42ed-a0ad-1c9e790916a5",
   "metadata": {},
   "outputs": [],
   "source": [
    "def detectAndDisplay(frame):\n",
    "    frame_gray = cv.cvtColor(frame, cv.COLOR_BGR2GRAY)\n",
    "    frame_gray = cv.equalizeHist(frame_gray)\n",
    "\n",
    "    #-- Detect faces\n",
    "    faces = face_cascade.detectMultiScale(frame_gray)\n",
    "    for (x,y,w,h) in faces:\n",
    "        center = (x + w//2, y + h//2)\n",
    "        frame = cv.ellipse(frame, center, (w//2, h//2), 0, 0, 360, (255, 0, 255), 4)\n",
    "\n",
    "        faceROI = frame_gray[y:y+h,x:x+w]\n",
    "        #-- In each face, detect eyes\n",
    "        eyes = eyes_cascade.detectMultiScale(faceROI)\n",
    "        for (x2,y2,w2,h2) in eyes:\n",
    "            eye_center = (x + x2 + w2//2, y + y2 + h2//2)\n",
    "            radius = int(round((w2 + h2)*0.25))\n",
    "            frame = cv.circle(frame, eye_center, radius, (255, 0, 0 ), 4)\n",
    "\n",
    "    cv.imshow('Capture - Face detection', frame)"
   ]
  },
  {
   "cell_type": "code",
   "execution_count": null,
   "id": "12ec7180-a4c6-45ce-85a4-ee19c9c58f3b",
   "metadata": {},
   "outputs": [],
   "source": [
    "# Faz o parse da localização dos Cascades e instancia o detector\n",
    "parser = argparse.ArgumentParser(description='Code for Cascade Classifier tutorial.')\n",
    "parser.add_argument('--face_cascade', help='Path to face cascade.', default='/home/diego/anaconda3/lib/python3.8/site-packages/cv2/data/haarcascade_frontalface_alt.xml')\n",
    "parser.add_argument('--eyes_cascade', help='Path to eyes cascade.', default='/home/diego/anaconda3/lib/python3.8/site-packages/cv2/data/haarcascade_eye_tree_eyeglasses.xml')\n",
    "parser.add_argument('--camera', help='Camera divide number.', type=int, default=0)\n",
    "args = parser.parse_args()\n",
    "\n",
    "face_cascade_name = args.face_cascade\n",
    "eyes_cascade_name = args.eyes_cascade\n",
    "\n",
    "face_cascade = cv.CascadeClassifier()\n",
    "eyes_cascade = cv.CascadeClassifier()\n",
    "\n",
    "# carrega os detectores\n",
    "if not face_cascade.load(cv.samples.findFile(face_cascade_name)):\n",
    "    print('--(!)Error loading face cascade')\n",
    "    exit(0)\n",
    "if not eyes_cascade.load(cv.samples.findFile(eyes_cascade_name)):\n",
    "    print('--(!)Error loading eyes cascade')\n",
    "    exit(0)\n",
    "\n",
    "camera_device = args.camera\n",
    "\n",
    "\n",
    "# Lê o innput de video da camera\n",
    "cap = cv.VideoCapture(camera_device)\n",
    "if not cap.isOpened:\n",
    "    print('--(!)Error opening video capture')\n",
    "    exit(0)\n",
    "\n",
    "# Enquanto nenhuma tecla é pressionada a janela que mostra a detecção é mantida ativada\n",
    "while True:\n",
    "    ret, frame = cap.read()\n",
    "    if frame is None:\n",
    "        print('--(!) No captured frame -- Break!')\n",
    "        break\n",
    "\n",
    "    detectAndDisplay(frame)\n",
    "\n",
    "    if cv.waitKey(10) == 27:\n",
    "        break"
   ]
  }
 ],
 "metadata": {
  "kernelspec": {
   "display_name": "Python 3",
   "language": "python",
   "name": "python3"
  },
  "language_info": {
   "codemirror_mode": {
    "name": "ipython",
    "version": 3
   },
   "file_extension": ".py",
   "mimetype": "text/x-python",
   "name": "python",
   "nbconvert_exporter": "python",
   "pygments_lexer": "ipython3",
   "version": "3.8.8"
  }
 },
 "nbformat": 4,
 "nbformat_minor": 5
}
