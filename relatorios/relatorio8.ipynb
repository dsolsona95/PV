{
 "cells": [
  {
   "cell_type": "markdown",
   "id": "bd496064-8e12-4267-b753-72850e6aebd7",
   "metadata": {},
   "source": [
    "# Relatório 8 - Rastreamento de Objetos\n",
    "\n",
    "Tutoriais utilizados\n",
    "\n",
    "https://docs.opencv.org/4.5.3/d2/d0a/tutorial_introduction_to_tracker.html\n",
    "\n",
    "https://learnopencv.com/object-tracking-using-opencv-cpp-python/\n",
    "\n",
    "https://github.com/spmallick/learnopencv/tree/master/tracking"
   ]
  },
  {
   "cell_type": "markdown",
   "id": "84236970-41f5-4b11-9064-e6ae5b3555b2",
   "metadata": {},
   "source": [
    "### Este tutorial foi executado como .py por não conseguir o mesmo processo com o Google Colab, o codigo apresentado nesse notebook foi feito para melhor documentação de cada etapa, e o resultado foi anexado ao final"
   ]
  },
  {
   "cell_type": "markdown",
   "id": "9925a406-ce4c-46ee-9dad-2df7e9d9bd7c",
   "metadata": {},
   "source": [
    "## Script utilizado para a execução do rastreamento"
   ]
  },
  {
   "cell_type": "code",
   "execution_count": null,
   "id": "12ec7180-a4c6-45ce-85a4-ee19c9c58f3b",
   "metadata": {},
   "outputs": [],
   "source": [
    "# importando as bibliotecas utilizadas no script\n",
    "import cv2 #opencv\n",
    "import sys #bibloteca de funções do sistemas, util para navegar,criar e modificar pastas e arquivos\n",
    "\n",
    "# verificando a versao exata do opencv instalado para identificar a estrtura de inicializacao dos trackers\n",
    "(major_ver, minor_ver, subminor_ver) = (cv2.__version__).split('.')\n",
    "\n",
    "# executa apenas se o script foi executado diretamente\n",
    "if __name__ == '__main__' :\n",
    "\n",
    "    # Lista os trackers disponiveis na biblioteca cv2\n",
    "    tracker_types = ['BOOSTING', 'MIL','KCF', 'TLD', 'MEDIANFLOW', 'GOTURN', 'CSRT']\n",
    "    \n",
    "    # neste caso utilizaremos apenas o método KCF\n",
    "    tracker_type = tracker_types[2]\n",
    "\n",
    "    # diferencia a inicializacao do tracker de acordo com a versao do opencv instalado\n",
    "    if int(minor_ver) < 3:\n",
    "        tracker = cv2.Tracker_create(tracker_type)\n",
    "    else:\n",
    "        if tracker_type == 'BOOSTING':\n",
    "            tracker = cv2.TrackerBoosting_create()\n",
    "        if tracker_type == 'MIL':\n",
    "            tracker = cv2.TrackerMIL_create()\n",
    "        if tracker_type == 'KCF':\n",
    "            tracker = cv2.TrackerKCF_create()\n",
    "        if tracker_type == 'TLD':\n",
    "            tracker = cv2.TrackerTLD_create()\n",
    "        if tracker_type == 'MEDIANFLOW':\n",
    "            tracker = cv2.TrackerMedianFlow_create()\n",
    "        if tracker_type == 'GOTURN':\n",
    "            tracker = cv2.TrackerGOTURN_create()\n",
    "        if tracker_type == \"CSRT\":\n",
    "            tracker = cv2.TrackerCSRT_create()\n",
    "\n",
    "    # realiza a leitura do vídeo que iremos utilizar para realizar a captura\n",
    "    video = cv2.VideoCapture(\"sample-mp4.mp4\")\n",
    "\n",
    "    # caso o video não for aberto corretamente o scrip é terminado\n",
    "    if not video.isOpened():\n",
    "        print (\"Could not open video\")\n",
    "        sys.exit()\n",
    "\n",
    "    # realiza a leitura do primeiro quadro para selecionar o objeto para ser trackeado, se houver erro na leitura o script é terminado\n",
    "    ok, frame = video.read()\n",
    "    if not ok:\n",
    "        print ('Cannot read video file')\n",
    "        sys.exit()\n",
    "    \n",
    "    # inicializa a tupla para a seleção do objeto\n",
    "    bbox = (287, 23, 86, 320)\n",
    "\n",
    "    # pede ao usuário que seleciona a area com o objeto a ser rastreado\n",
    "    bbox = cv2.selectROI(frame, False)\n",
    "\n",
    "    # inicializa o rastreamento\n",
    "    ok = tracker.init(frame, bbox)\n",
    "\n",
    "    # looping de leitura e rastreamento de novos pixels enquanto o video não terminar\n",
    "    while True:\n",
    "        # le um novo quadro e termina o script caso nao for possivel le-lo\n",
    "        ok, frame = video.read()\n",
    "        if not ok:\n",
    "            break\n",
    "        \n",
    "        # inicializa o timer para calcular o numero de quadros por segundo\n",
    "        timer = cv2.getTickCount()\n",
    "\n",
    "        # atualiza o rastreamento no novo quadro\n",
    "        ok, bbox = tracker.update(frame)\n",
    "\n",
    "        # calcula o numero de quadros por segundo\n",
    "        fps = cv2.getTickFrequency() / (cv2.getTickCount() - timer);\n",
    "\n",
    "        # desenha a atualizacao da area do objeto rastreado\n",
    "        if ok:\n",
    "            # Tracking success\n",
    "            p1 = (int(bbox[0]), int(bbox[1]))\n",
    "            p2 = (int(bbox[0] + bbox[2]), int(bbox[1] + bbox[3]))\n",
    "            cv2.rectangle(frame, p1, p2, (255,0,0), 2, 1)\n",
    "        else :\n",
    "            # indica a falha na leitura do objeto rastreado\n",
    "            cv2.putText(frame, \"Tracking failure detected\", (100,80), cv2.FONT_HERSHEY_SIMPLEX, 0.75,(0,0,255),2)\n",
    "\n",
    "        # mostra o tipo de rastreador que está sendo utilizado\n",
    "        cv2.putText(frame, tracker_type + \" Tracker\", (100,20), cv2.FONT_HERSHEY_SIMPLEX, 0.75, (50,170,50),2);\n",
    "    \n",
    "        # mostra o numero de quadros por segundo\n",
    "        cv2.putText(frame, \"FPS : \" + str(int(fps)), (100,50), cv2.FONT_HERSHEY_SIMPLEX, 0.75, (50,170,50), 2);\n",
    "\n",
    "\n",
    "        # atualiza a exibicao com o novo quadro, com o video, o objeto rastreado, o tipo do rastreador e a contagem de frames\n",
    "        cv2.imshow(\"Tracking\", frame)\n",
    "\n",
    "        # o script é terminado se a tecla esc for pressionada\n",
    "        k = cv2.waitKey(1) & 0xff\n",
    "        if k == 27 : break"
   ]
  },
  {
   "cell_type": "markdown",
   "id": "b385f832-f1a8-4608-9e38-d9497e1bdb4f",
   "metadata": {},
   "source": [
    "## Resultado - KCF"
   ]
  },
  {
   "cell_type": "code",
   "execution_count": 2,
   "id": "b0e1a94d-d273-4f3a-b719-3b6f76bc2679",
   "metadata": {},
   "outputs": [
    {
     "data": {
      "text/html": [
       "<video src=\"result1.mkv\" controls  >\n",
       "      Your browser does not support the <code>video</code> element.\n",
       "    </video>"
      ],
      "text/plain": [
       "<IPython.core.display.Video object>"
      ]
     },
     "execution_count": 2,
     "metadata": {},
     "output_type": "execute_result"
    }
   ],
   "source": [
    "from IPython.display import Video\n",
    "# Vídeo Base: Monologo de Grasiela Camargo - https://www.youtube.com/watch?v=AbrTiNZ7wd4\n",
    "Video(\"result1.mkv\")"
   ]
  },
  {
   "cell_type": "markdown",
   "id": "5264d5e0-cb10-4476-94ae-6664bdd01329",
   "metadata": {},
   "source": [
    "## Resultado MIL"
   ]
  },
  {
   "cell_type": "code",
   "execution_count": 1,
   "id": "be787d62-62a9-4cb6-b1eb-e43b2f3a4039",
   "metadata": {},
   "outputs": [
    {
     "data": {
      "text/html": [
       "<video src=\"result2.mkv\" controls  >\n",
       "      Your browser does not support the <code>video</code> element.\n",
       "    </video>"
      ],
      "text/plain": [
       "<IPython.core.display.Video object>"
      ]
     },
     "execution_count": 1,
     "metadata": {},
     "output_type": "execute_result"
    }
   ],
   "source": [
    "from IPython.display import Video\n",
    "# Vídeo Base: Monologo de Grasiela Camargo - https://www.youtube.com/watch?v=AbrTiNZ7wd4\n",
    "Video(\"result2.mkv\")"
   ]
  },
  {
   "cell_type": "markdown",
   "id": "d7a278f4-cf86-41cf-8a43-d3163bb02470",
   "metadata": {},
   "source": [
    "# Comentários"
   ]
  },
  {
   "cell_type": "markdown",
   "id": "e48feb46-50cd-41cc-9ea0-983a3df65b48",
   "metadata": {},
   "source": [
    "Apesar do tracker MIL aparentar oscilar menor a caixa de seleção durante o vídeo a sua performance em quesito de quadros por segundo foi imensamente inferior ao KCF, com uma taxa média de 25 e 55 quadros por segundos respectivamente."
   ]
  },
  {
   "cell_type": "code",
   "execution_count": null,
   "id": "b9fda243-478c-4cce-8dae-d39521492217",
   "metadata": {},
   "outputs": [],
   "source": []
  }
 ],
 "metadata": {
  "kernelspec": {
   "display_name": "Python 3",
   "language": "python",
   "name": "python3"
  },
  "language_info": {
   "codemirror_mode": {
    "name": "ipython",
    "version": 3
   },
   "file_extension": ".py",
   "mimetype": "text/x-python",
   "name": "python",
   "nbconvert_exporter": "python",
   "pygments_lexer": "ipython3",
   "version": "3.8.8"
  }
 },
 "nbformat": 4,
 "nbformat_minor": 5
}
